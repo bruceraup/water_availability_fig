{
 "cells": [
  {
   "cell_type": "code",
   "execution_count": null,
   "metadata": {
    "collapsed": true
   },
   "outputs": [],
   "source": [
    "import pandas as pd\n",
    "import matplotlib as mpl\n",
    "import matplotlib.pyplot as plt\n",
    "%matplotlib inline"
   ]
  },
  {
   "cell_type": "code",
   "execution_count": null,
   "metadata": {},
   "outputs": [],
   "source": [
    "melt_file = 'IN_fullbasin_meltcontributionstytype_500m.txt'\n",
    "precip_file = 'IN_v01_fullbasinmasks.MERRA_rainfall_km3.annual_mean.by_elev.txt'\n",
    "\n",
    "melt_df = pd.read_csv(melt_file, sep='\\s+')\n",
    "print(melt_df)\n",
    "\n",
    "prec_df = pd.read_csv(precip_file, sep='\\s+')\n",
    "print(prec_df)\n"
   ]
  },
  {
   "cell_type": "code",
   "execution_count": null,
   "metadata": {},
   "outputs": [],
   "source": [
    "melt_cum = melt_df.sort_index(ascending=False).cumsum()\n",
    "prec_cum = prec_df.sort_index(ascending=False).cumsum()\n",
    "\n",
    "print(melt_cum)\n",
    "print(prec_cum)"
   ]
  },
  {
   "cell_type": "code",
   "execution_count": null,
   "metadata": {},
   "outputs": [],
   "source": [
    "all_contribs = pd.concat((melt_cum, prec_cum), axis=1)\n",
    "\n",
    "print(all_contribs)"
   ]
  },
  {
   "cell_type": "code",
   "execution_count": null,
   "metadata": {},
   "outputs": [],
   "source": [
    "# Calculate contributions as fraction of total.  Drop all rows with all zeros first.\n",
    "\n",
    "all_contribs = all_contribs[(all_contribs.T != 0).any()]        # drop zero rows\n",
    "\n",
    "sums = all_contribs.sum(axis=1)\n",
    "print(\"SUMS\\n\", sums)\n",
    "all_contribs_fraction = all_contribs.divide(sums.values, axis='index')\n",
    "all_contribs_fraction.index.name = 'Elevation (m)'\n",
    "\n",
    "print(\"FRACTIONS\")\n",
    "print(all_contribs_fraction)"
   ]
  },
  {
   "cell_type": "code",
   "execution_count": null,
   "metadata": {},
   "outputs": [],
   "source": [
    "all_contribs_fraction.sum(axis=1)"
   ]
  },
  {
   "cell_type": "code",
   "execution_count": null,
   "metadata": {},
   "outputs": [],
   "source": [
    "ax = all_contribs_fraction.plot(title='Cumulative streamflow contribution with distance down-river')\n",
    "ax.set_ylabel('Fractional stream contribution')"
   ]
  },
  {
   "cell_type": "code",
   "execution_count": null,
   "metadata": {},
   "outputs": [],
   "source": [
    "ax = all_contribs.plot(title='Cumulative streamflow contribution with distance down-river')\n",
    "ax.set_ylabel('Stream contribution (km3)')"
   ]
  },
  {
   "cell_type": "code",
   "execution_count": null,
   "metadata": {
    "collapsed": true
   },
   "outputs": [],
   "source": []
  }
 ],
 "metadata": {
  "kernelspec": {
   "display_name": "Python 3",
   "language": "python",
   "name": "python3"
  },
  "language_info": {
   "codemirror_mode": {
    "name": "ipython",
    "version": 3
   },
   "file_extension": ".py",
   "mimetype": "text/x-python",
   "name": "python",
   "nbconvert_exporter": "python",
   "pygments_lexer": "ipython3",
   "version": "3.6.2"
  }
 },
 "nbformat": 4,
 "nbformat_minor": 2
}
