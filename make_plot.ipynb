{
 "cells": [
  {
   "cell_type": "code",
   "execution_count": null,
   "metadata": {},
   "outputs": [],
   "source": [
    "import numpy as np\n",
    "import pandas as pd\n",
    "import matplotlib as mpl\n",
    "import matplotlib.pyplot as plt\n",
    "%matplotlib inline\n",
    "mpl.style.use('ggplot')"
   ]
  },
  {
   "cell_type": "code",
   "execution_count": null,
   "metadata": {},
   "outputs": [],
   "source": [
    "melt_file = 'IN_fullbasin_meltcontributionstytype_500m.txt'\n",
    "#precip_file = 'IN_v01_fullbasinmasks.MERRA_rainfall_km3.annual_mean.by_elev.txt'\n",
    "precip_file = 'IN_v01_fullbasinmasks.MERRA_rain_snow_fall_km3.annual_mean.by_elev.v2.csv'\n",
    "\n",
    "melt_df = pd.read_csv(melt_file, sep='\\s+', \\\n",
    "                      names=['elev', 'exposed_glacier_ice', 'snow_on_ice', 'snow_on_land'], \\\n",
    "                      index_col='elev', skiprows=1)\n",
    "print(melt_df)\n",
    "\n",
    "prec_df = pd.read_csv(precip_file, sep=',', names=['elev', 'rain', 'snow'], index_col='elev', skiprows=1)\n",
    "print(prec_df)\n",
    "\n",
    "\n"
   ]
  },
  {
   "cell_type": "code",
   "execution_count": null,
   "metadata": {},
   "outputs": [],
   "source": [
    "melt_cum = melt_df.sort_index(ascending=False).cumsum()\n",
    "prec_cum = prec_df.sort_index(ascending=False).cumsum()\n",
    "\n",
    "print(melt_cum)\n",
    "print(prec_cum)"
   ]
  },
  {
   "cell_type": "code",
   "execution_count": null,
   "metadata": {},
   "outputs": [],
   "source": [
    "all_contribs_model = pd.concat((melt_cum, prec_cum['rain']), axis=1)\n",
    "all_contribs_merra = pd.concat((melt_cum['exposed_glacier_ice'], prec_cum), axis=1)\n",
    "\n",
    "all_contribs_model = all_contribs_model[['exposed_glacier_ice', 'snow_on_ice', 'snow_on_land', 'rain']]\n",
    "all_contribs_merra = all_contribs_merra[['exposed_glacier_ice', 'snow', 'rain']]\n",
    "\n",
    "print(all_contribs_model)\n",
    "print(all_contribs_merra)"
   ]
  },
  {
   "cell_type": "code",
   "execution_count": null,
   "metadata": {},
   "outputs": [],
   "source": [
    "# Calculate contributions as fraction of total.  Drop all rows with all zeros first.\n",
    "\n",
    "all_contribs_model = all_contribs_model[(all_contribs_model.T != 0).any()]        # drop zero rows\n",
    "all_contribs_merra = all_contribs_merra[(all_contribs_merra.T != 0).any()]        # drop zero rows\n",
    "\n",
    "sums_model = all_contribs_model.sum(axis=1)\n",
    "sums_merra = all_contribs_merra.sum(axis=1)\n",
    "print(\"SUMS, MODEL\\n\", sums_model)\n",
    "print(\"SUMS, MERRA\\n\", sums_merra)\n",
    "all_contribs_model_fraction = all_contribs_model.divide(sums_model.values, axis='index')\n",
    "all_contribs_model_fraction.index.name = 'Elevation (m)'\n",
    "all_contribs_merra_fraction = all_contribs_merra.divide(sums_merra.values, axis='index')\n",
    "all_contribs_merra_fraction.index.name = 'Elevation (m)'\n",
    "\n",
    "print(\"FRACTIONS, MODEL\")\n",
    "print(all_contribs_model_fraction)\n",
    "print(\"FRACTIONS, MERRA\")\n",
    "print(all_contribs_merra_fraction)"
   ]
  },
  {
   "cell_type": "code",
   "execution_count": null,
   "metadata": {},
   "outputs": [],
   "source": [
    "all_contribs_model_fraction.sum(axis=1)\n",
    "all_contribs_merra_fraction.sum(axis=1)"
   ]
  },
  {
   "cell_type": "code",
   "execution_count": null,
   "metadata": {
    "collapsed": true
   },
   "outputs": [],
   "source": [
    "colors_model = ['r', 'blue', 'cyan', 'gray']\n",
    "colors_merra = ['r', 'cyan', 'gray']"
   ]
  },
  {
   "cell_type": "code",
   "execution_count": null,
   "metadata": {
    "scrolled": true
   },
   "outputs": [],
   "source": [
    "fig1, (ax1, ax2) = plt.subplots(ncols=2, figsize=(15,3))\n",
    "\n",
    "ax = all_contribs_model_fraction.plot.bar(ax=ax1, title='Streamflow fraction', color=colors_model, stacked=True)\n",
    "ax.set_ylabel('Fractional stream contribution')\n",
    "ax = all_contribs_merra_fraction.plot.bar(ax=ax2, title='Streamflow fraction', color=colors_merra, stacked=True)\n",
    "ax.set_ylabel('Fractional stream contribution')"
   ]
  },
  {
   "cell_type": "code",
   "execution_count": null,
   "metadata": {},
   "outputs": [],
   "source": [
    "fig1, (ax1, ax2) = plt.subplots(ncols=2, figsize=(15,3))\n",
    "ax = all_contribs_model.plot(ax=ax1, title='Streamflow volume with distance down-river', color=colors_model)\n",
    "ax.set_ylabel(r'Stream contribution (km$^3$)')\n",
    "ax = all_contribs_merra.plot(ax=ax2, title='Streamflow volume with distance down-river', color=colors_merra)\n",
    "ax.set_ylabel(r'Stream contribution (km$^3$)')"
   ]
  },
  {
   "cell_type": "code",
   "execution_count": null,
   "metadata": {},
   "outputs": [],
   "source": [
    "# Plot modeled snow_on_land+snow_on_ice vs merra snow\n",
    "model_snows = all_contribs_model['snow_on_land'] + all_contribs_model['snow_on_ice']\n",
    "print(\"MODEL\\n\", model_snows)"
   ]
  },
  {
   "cell_type": "code",
   "execution_count": null,
   "metadata": {},
   "outputs": [],
   "source": [
    "merra_snow = all_contribs_merra['snow']\n",
    "merra_snow = merra_snow[merra_snow.index <= 6000]\n",
    "\n",
    "print(\"MERRA\\n\", merra_snow)"
   ]
  },
  {
   "cell_type": "code",
   "execution_count": null,
   "metadata": {},
   "outputs": [],
   "source": [
    "plt.plot(model_snows, merra_snow)"
   ]
  },
  {
   "cell_type": "code",
   "execution_count": null,
   "metadata": {},
   "outputs": [],
   "source": [
    "snows_both = pd.concat((model_snows, merra_snow), axis=1)\n",
    "snows_both.columns = ['sol+soi', 'merra_snow']\n",
    "print(snows_both)"
   ]
  },
  {
   "cell_type": "code",
   "execution_count": null,
   "metadata": {},
   "outputs": [],
   "source": [
    "snows_both.plot()"
   ]
  },
  {
   "cell_type": "code",
   "execution_count": null,
   "metadata": {
    "collapsed": true
   },
   "outputs": [],
   "source": []
  }
 ],
 "metadata": {
  "kernelspec": {
   "display_name": "Python 3",
   "language": "python",
   "name": "python3"
  },
  "language_info": {
   "codemirror_mode": {
    "name": "ipython",
    "version": 3
   },
   "file_extension": ".py",
   "mimetype": "text/x-python",
   "name": "python",
   "nbconvert_exporter": "python",
   "pygments_lexer": "ipython3",
   "version": "3.6.2"
  }
 },
 "nbformat": 4,
 "nbformat_minor": 2
}
